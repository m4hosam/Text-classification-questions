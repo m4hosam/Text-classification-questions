{
 "cells": [
  {
   "cell_type": "markdown",
   "id": "068bf694-18a8-40e2-a998-84999f39df46",
   "metadata": {},
   "source": [
    "## Creating Virtual Environment and Installing Requirments"
   ]
  },
  {
   "cell_type": "code",
   "execution_count": null,
   "id": "12795d28-7007-4ad3-b1cf-811d14530823",
   "metadata": {},
   "outputs": [],
   "source": [
    "python -m venv env"
   ]
  },
  {
   "cell_type": "code",
   "execution_count": null,
   "id": "254526b6-24e6-485f-bedf-0295d9418d1e",
   "metadata": {},
   "outputs": [],
   "source": [
    "source env/Scripts/activate"
   ]
  },
  {
   "cell_type": "code",
   "execution_count": null,
   "id": "21076fb9-af1b-4071-9c56-a96005001bdc",
   "metadata": {},
   "outputs": [],
   "source": [
    "pip install transformers sentence_transformers"
   ]
  },
  {
   "cell_type": "markdown",
   "id": "064c1d5f-a4fc-4d7e-b2ca-c132cd79e9dc",
   "metadata": {},
   "source": [
    "## Getting the similarity between questions"
   ]
  },
  {
   "cell_type": "code",
   "execution_count": null,
   "id": "911f240f-a97b-44ff-be99-ffa3c3528898",
   "metadata": {},
   "outputs": [],
   "source": [
    "# Load the SentenceTransformer model\n",
    "model = SentenceTransformer('sentence-transformers/all-MiniLM-L6-v2')\n",
    "\n",
    "# Compute the sentence embeddings\n",
    "embeddings = model.encode(questions, convert_to_tensor=True)\n",
    "\n",
    "# Compute the cosine similarity between the sentence embeddings\n",
    "cosine_scores = util.cos_sim(embeddings[0], embeddings[1])\n",
    "\n",
    "print('Cosine similarity: {:.4f}'.format(cosine_scores.item()))"
   ]
  },
  {
   "cell_type": "markdown",
   "id": "ec3e741b-5255-4623-b14c-fb291338f5bc",
   "metadata": {},
   "source": [
    "## Getting the Candidate lables for each question"
   ]
  },
  {
   "cell_type": "code",
   "execution_count": null,
   "id": "38299e77-0824-4ef5-8ca1-011a1ec3c970",
   "metadata": {},
   "outputs": [],
   "source": [
    "# Getting the candidate label for each question\n",
    "classifier = pipeline(\"zero-shot-classification\",\n",
    "                    model=\"facebook/bart-large-mnli\")\n",
    "\n",
    "question_label1 = classifier(questions[0], candidate_labels)\n",
    "question_label2 = classifier(questions[1], candidate_labels)\n",
    "\n",
    "print(\"Question 1 candidate label: \", question_label1[\"labels\"][0], \", score: \", question_label1[\"scores\"][0])\n",
    "print(\"Question 2 candidate label: \", question_label2[\"labels\"][0], \", score: \", question_label2[\"scores\"][0])\n"
   ]
  },
  {
   "cell_type": "markdown",
   "id": "ca2b3ec6-b244-4b3f-9e16-ad54bed606c0",
   "metadata": {},
   "source": [
    "## Getting the keywords for each quesitons"
   ]
  },
  {
   "cell_type": "code",
   "execution_count": null,
   "id": "1a73344c-7ea3-4593-b9d2-4b0163893b8b",
   "metadata": {},
   "outputs": [],
   "source": [
    "# Getting the keywords for each question\n",
    "keywordExtractor = pipeline(\"token-classification\",\n",
    "                    model=\"yanekyuk/bert-keyword-extractor\")\n",
    "\n",
    "keywords1 = keywordExtractor(questions[0])\n",
    "keywords2 = keywordExtractor(questions[1])"
   ]
  },
  {
   "cell_type": "markdown",
   "id": "c508cf27-681c-4273-a148-b9d53a664530",
   "metadata": {},
   "source": [
    "### Joining the keywords all together"
   ]
  },
  {
   "cell_type": "code",
   "execution_count": null,
   "id": "9d7a21c8-7236-4eb8-b5a6-eae07421187f",
   "metadata": {},
   "outputs": [],
   "source": [
    "# Join subwords\n",
    "keywords_joined1 = []\n",
    "for keyword in keywords1:\n",
    "    if keyword['word'].startswith('##'):\n",
    "        keywords_joined1[-1]['word'] += keyword['word'][2:]\n",
    "    else:\n",
    "        keywords_joined1.append(keyword)\n",
    "\n",
    "keywords_joined2 = []\n",
    "for keyword in keywords2:\n",
    "    if keyword['word'].startswith('##'):\n",
    "        keywords_joined2[-1]['word'] += keyword['word'][2:]\n",
    "    else:\n",
    "        keywords_joined2.append(keyword)\n",
    "\n",
    "# Print only the words\n",
    "print(\"Question 1 keywords:\")\n",
    "for keyword in keywords_joined1:\n",
    "    print(\"\\t\", keyword['word'])\n",
    "\n",
    "print(\"Question 2 keywords:\")\n",
    "for keyword in keywords_joined2:\n",
    "    print(\"\\t\", keyword['word'])\n"
   ]
  }
 ],
 "metadata": {
  "kernelspec": {
   "display_name": "Python 3 (ipykernel)",
   "language": "python",
   "name": "python3"
  },
  "language_info": {
   "codemirror_mode": {
    "name": "ipython",
    "version": 3
   },
   "file_extension": ".py",
   "mimetype": "text/x-python",
   "name": "python",
   "nbconvert_exporter": "python",
   "pygments_lexer": "ipython3",
   "version": "3.11.5"
  }
 },
 "nbformat": 4,
 "nbformat_minor": 5
}
